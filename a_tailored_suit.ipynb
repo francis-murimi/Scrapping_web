{
 "cells": [
  {
   "cell_type": "code",
   "execution_count": 1,
   "id": "e0aaef12-ef46-40ba-9be0-52135625b2c2",
   "metadata": {},
   "outputs": [],
   "source": [
    "import pandas as pd"
   ]
  },
  {
   "cell_type": "code",
   "execution_count": 8,
   "id": "20b4c3be-a504-4856-9193-15073b5c2081",
   "metadata": {},
   "outputs": [],
   "source": [
    "df = pd.read_csv('a_tailored_suit.csv')"
   ]
  },
  {
   "cell_type": "code",
   "execution_count": 18,
   "id": "9fc6fb04-6f14-4313-82c8-5e31f113d586",
   "metadata": {},
   "outputs": [
    {
     "data": {
      "text/html": [
       "<div>\n",
       "<style scoped>\n",
       "    .dataframe tbody tr th:only-of-type {\n",
       "        vertical-align: middle;\n",
       "    }\n",
       "\n",
       "    .dataframe tbody tr th {\n",
       "        vertical-align: top;\n",
       "    }\n",
       "\n",
       "    .dataframe thead th {\n",
       "        text-align: right;\n",
       "    }\n",
       "</style>\n",
       "<table border=\"1\" class=\"dataframe\">\n",
       "  <thead>\n",
       "    <tr style=\"text-align: right;\">\n",
       "      <th></th>\n",
       "      <th>ID</th>\n",
       "      <th>URL</th>\n",
       "      <th>end_link</th>\n",
       "    </tr>\n",
       "  </thead>\n",
       "  <tbody>\n",
       "    <tr>\n",
       "      <th>0</th>\n",
       "      <td>3</td>\n",
       "      <td>https://atailoredsuit.com/</td>\n",
       "      <td></td>\n",
       "    </tr>\n",
       "    <tr>\n",
       "      <th>1</th>\n",
       "      <td>4</td>\n",
       "      <td>https://atailoredsuit.com/start-here.html</td>\n",
       "      <td>start-here.html</td>\n",
       "    </tr>\n",
       "    <tr>\n",
       "      <th>2</th>\n",
       "      <td>5</td>\n",
       "      <td>https://atailoredsuit.com/mens-style-guide-tai...</td>\n",
       "      <td>mens-style-guide-tailored-suit.html</td>\n",
       "    </tr>\n",
       "    <tr>\n",
       "      <th>3</th>\n",
       "      <td>6</td>\n",
       "      <td>https://atailoredsuit.com/your-measurements-ta...</td>\n",
       "      <td>your-measurements-tailored-suit.html</td>\n",
       "    </tr>\n",
       "    <tr>\n",
       "      <th>4</th>\n",
       "      <td>7</td>\n",
       "      <td>https://atailoredsuit.com/garment-types-tailor...</td>\n",
       "      <td>garment-types-tailored-suit.html</td>\n",
       "    </tr>\n",
       "  </tbody>\n",
       "</table>\n",
       "</div>"
      ],
      "text/plain": [
       "   ID                                                URL  \\\n",
       "0   3                         https://atailoredsuit.com/   \n",
       "1   4          https://atailoredsuit.com/start-here.html   \n",
       "2   5  https://atailoredsuit.com/mens-style-guide-tai...   \n",
       "3   6  https://atailoredsuit.com/your-measurements-ta...   \n",
       "4   7  https://atailoredsuit.com/garment-types-tailor...   \n",
       "\n",
       "                               end_link  \n",
       "0                                        \n",
       "1                       start-here.html  \n",
       "2   mens-style-guide-tailored-suit.html  \n",
       "3  your-measurements-tailored-suit.html  \n",
       "4      garment-types-tailored-suit.html  "
      ]
     },
     "execution_count": 18,
     "metadata": {},
     "output_type": "execute_result"
    }
   ],
   "source": [
    "df.head(5)"
   ]
  },
  {
   "cell_type": "code",
   "execution_count": 12,
   "id": "6a87eece-091e-4e42-8aec-27312b2197be",
   "metadata": {},
   "outputs": [],
   "source": [
    "# Perform preprocessing on the DataFrame (replace this with your specific preprocessing tasks)\n",
    "# Example: Removing duplicate URLs\n",
    "df = df.drop_duplicates(subset='URL')"
   ]
  },
  {
   "cell_type": "code",
   "execution_count": 13,
   "id": "f953eeab-d77f-407e-ab5f-5937e083913f",
   "metadata": {},
   "outputs": [
    {
     "data": {
      "text/plain": [
       "(329, 2)"
      ]
     },
     "execution_count": 13,
     "metadata": {},
     "output_type": "execute_result"
    }
   ],
   "source": [
    "df.shape"
   ]
  },
  {
   "cell_type": "code",
   "execution_count": 14,
   "id": "52bfd955-cdd0-48f0-b8d0-fba61e15de33",
   "metadata": {},
   "outputs": [],
   "source": [
    "# Function to extract the word or words between the domain and the next slash\n",
    "def extract_word_from_url(url):\n",
    "    # Split the URL by '/'\n",
    "    parts = url.split('/')\n",
    "    \n",
    "    # Find the part that follows 'www.artofmanliness.com'\n",
    "    index = parts.index('atailoredsuit.com') + 1\n",
    "    \n",
    "    # Extract the word\n",
    "    if index < len(parts):\n",
    "        return parts[index]\n",
    "    else:\n",
    "        return None  # Handle cases where the URL ends with a slash"
   ]
  },
  {
   "cell_type": "code",
   "execution_count": 15,
   "id": "f3896a52-39ef-4f87-9a82-028f03829283",
   "metadata": {},
   "outputs": [
    {
     "data": {
      "text/plain": [
       "'https://atailoredsuit.com/page/3'"
      ]
     },
     "execution_count": 15,
     "metadata": {},
     "output_type": "execute_result"
    }
   ],
   "source": [
    "df['URL'][20]"
   ]
  },
  {
   "cell_type": "code",
   "execution_count": 16,
   "id": "2b91faa3-879c-4857-b497-649c7ee0cce2",
   "metadata": {},
   "outputs": [
    {
     "data": {
      "text/plain": [
       "'page'"
      ]
     },
     "execution_count": 16,
     "metadata": {},
     "output_type": "execute_result"
    }
   ],
   "source": [
    "extract_word_from_url(df['URL'][20])"
   ]
  },
  {
   "cell_type": "code",
   "execution_count": 17,
   "id": "5b104a12-fefe-4061-b9dd-1fa510c67a5b",
   "metadata": {},
   "outputs": [],
   "source": [
    "df['end_link'] = df['URL'].apply(extract_word_from_url)"
   ]
  },
  {
   "cell_type": "code",
   "execution_count": 19,
   "id": "75ae0dcc-fb07-4d37-b2ff-7f068a3f236a",
   "metadata": {},
   "outputs": [
    {
     "data": {
      "text/html": [
       "<div>\n",
       "<style scoped>\n",
       "    .dataframe tbody tr th:only-of-type {\n",
       "        vertical-align: middle;\n",
       "    }\n",
       "\n",
       "    .dataframe tbody tr th {\n",
       "        vertical-align: top;\n",
       "    }\n",
       "\n",
       "    .dataframe thead th {\n",
       "        text-align: right;\n",
       "    }\n",
       "</style>\n",
       "<table border=\"1\" class=\"dataframe\">\n",
       "  <thead>\n",
       "    <tr style=\"text-align: right;\">\n",
       "      <th></th>\n",
       "      <th>ID</th>\n",
       "      <th>URL</th>\n",
       "      <th>end_link</th>\n",
       "    </tr>\n",
       "  </thead>\n",
       "  <tbody>\n",
       "  </tbody>\n",
       "</table>\n",
       "</div>"
      ],
      "text/plain": [
       "Empty DataFrame\n",
       "Columns: [ID, URL, end_link]\n",
       "Index: []"
      ]
     },
     "execution_count": 19,
     "metadata": {},
     "output_type": "execute_result"
    }
   ],
   "source": [
    "df[df['end_link'].isnull()]"
   ]
  },
  {
   "cell_type": "code",
   "execution_count": 20,
   "id": "5fd81eb0-9b69-457b-82de-44123221895f",
   "metadata": {},
   "outputs": [],
   "source": [
    "# Filtering to remove rows with empty or non-'html' values in 'end_link' column\n",
    "df = df[df['end_link'].str.endswith('.html')]\n",
    "\n",
    "# Resetting the index to ensure it's continuous\n",
    "df.reset_index(drop=True, inplace=True)"
   ]
  },
  {
   "cell_type": "code",
   "execution_count": 21,
   "id": "94999dc5-a400-43df-a576-33d63bae08e5",
   "metadata": {},
   "outputs": [
    {
     "data": {
      "text/html": [
       "<div>\n",
       "<style scoped>\n",
       "    .dataframe tbody tr th:only-of-type {\n",
       "        vertical-align: middle;\n",
       "    }\n",
       "\n",
       "    .dataframe tbody tr th {\n",
       "        vertical-align: top;\n",
       "    }\n",
       "\n",
       "    .dataframe thead th {\n",
       "        text-align: right;\n",
       "    }\n",
       "</style>\n",
       "<table border=\"1\" class=\"dataframe\">\n",
       "  <thead>\n",
       "    <tr style=\"text-align: right;\">\n",
       "      <th></th>\n",
       "      <th>ID</th>\n",
       "      <th>URL</th>\n",
       "      <th>end_link</th>\n",
       "    </tr>\n",
       "  </thead>\n",
       "  <tbody>\n",
       "    <tr>\n",
       "      <th>0</th>\n",
       "      <td>4</td>\n",
       "      <td>https://atailoredsuit.com/start-here.html</td>\n",
       "      <td>start-here.html</td>\n",
       "    </tr>\n",
       "    <tr>\n",
       "      <th>1</th>\n",
       "      <td>5</td>\n",
       "      <td>https://atailoredsuit.com/mens-style-guide-tai...</td>\n",
       "      <td>mens-style-guide-tailored-suit.html</td>\n",
       "    </tr>\n",
       "    <tr>\n",
       "      <th>2</th>\n",
       "      <td>6</td>\n",
       "      <td>https://atailoredsuit.com/your-measurements-ta...</td>\n",
       "      <td>your-measurements-tailored-suit.html</td>\n",
       "    </tr>\n",
       "    <tr>\n",
       "      <th>3</th>\n",
       "      <td>7</td>\n",
       "      <td>https://atailoredsuit.com/garment-types-tailor...</td>\n",
       "      <td>garment-types-tailored-suit.html</td>\n",
       "    </tr>\n",
       "    <tr>\n",
       "      <th>4</th>\n",
       "      <td>8</td>\n",
       "      <td>https://atailoredsuit.com/about-tailored-suit....</td>\n",
       "      <td>about-tailored-suit.html</td>\n",
       "    </tr>\n",
       "  </tbody>\n",
       "</table>\n",
       "</div>"
      ],
      "text/plain": [
       "   ID                                                URL  \\\n",
       "0   4          https://atailoredsuit.com/start-here.html   \n",
       "1   5  https://atailoredsuit.com/mens-style-guide-tai...   \n",
       "2   6  https://atailoredsuit.com/your-measurements-ta...   \n",
       "3   7  https://atailoredsuit.com/garment-types-tailor...   \n",
       "4   8  https://atailoredsuit.com/about-tailored-suit....   \n",
       "\n",
       "                               end_link  \n",
       "0                       start-here.html  \n",
       "1   mens-style-guide-tailored-suit.html  \n",
       "2  your-measurements-tailored-suit.html  \n",
       "3      garment-types-tailored-suit.html  \n",
       "4              about-tailored-suit.html  "
      ]
     },
     "execution_count": 21,
     "metadata": {},
     "output_type": "execute_result"
    }
   ],
   "source": [
    "df.head(5)"
   ]
  },
  {
   "cell_type": "code",
   "execution_count": 22,
   "id": "2648b72b-88d7-491a-aded-86fa9ff88cb2",
   "metadata": {},
   "outputs": [],
   "source": [
    "# Function to extract the word or words between the domain and the next slash\n",
    "def url_with_content(url):\n",
    "    # Split the URL by '/'\n",
    "    parts = url.split('/')\n",
    "    return len(parts)"
   ]
  },
  {
   "cell_type": "code",
   "execution_count": 23,
   "id": "d593ce2d-f571-4180-b43c-43a58ccf9a35",
   "metadata": {},
   "outputs": [
    {
     "data": {
      "text/plain": [
       "4"
      ]
     },
     "execution_count": 23,
     "metadata": {},
     "output_type": "execute_result"
    }
   ],
   "source": [
    "url_with_content(df['URL'][0])"
   ]
  },
  {
   "cell_type": "code",
   "execution_count": 37,
   "id": "1defff56-192f-482d-9018-39386e0ec4cd",
   "metadata": {},
   "outputs": [
    {
     "data": {
      "text/plain": [
       "'start-here.html'"
      ]
     },
     "execution_count": 37,
     "metadata": {},
     "output_type": "execute_result"
    }
   ],
   "source": [
    "df['end_link'][0]"
   ]
  },
  {
   "cell_type": "code",
   "execution_count": 38,
   "id": "8e6c0323-9846-440a-97e2-18baaeddcfd6",
   "metadata": {},
   "outputs": [],
   "source": [
    "import re"
   ]
  },
  {
   "cell_type": "code",
   "execution_count": 39,
   "id": "d206592a-cf20-4725-aeb5-85f7926c44b0",
   "metadata": {},
   "outputs": [],
   "source": [
    "def count_words_in_string(input_string):\n",
    "    # Split the input string by hyphen '-' and period '.'\n",
    "    words = re.split(r'[-.]', input_string)\n",
    "    \n",
    "    # Filter out empty strings\n",
    "    words = [word for word in words if word]\n",
    "    \n",
    "    # Count the number of words\n",
    "    word_count = len(words)\n",
    "    return word_count"
   ]
  },
  {
   "cell_type": "code",
   "execution_count": 40,
   "id": "ffcab14d-7ae3-4cab-a8e8-0fbc93bbab20",
   "metadata": {},
   "outputs": [
    {
     "data": {
      "text/plain": [
       "3"
      ]
     },
     "execution_count": 40,
     "metadata": {},
     "output_type": "execute_result"
    }
   ],
   "source": [
    "count_words_in_string(df['end_link'][0])"
   ]
  },
  {
   "cell_type": "code",
   "execution_count": 41,
   "id": "13a7991b-368b-4a29-b41c-c9695267f2fa",
   "metadata": {},
   "outputs": [],
   "source": [
    "df['end_link_count'] = df['end_link'].apply(count_words_in_string)"
   ]
  },
  {
   "cell_type": "code",
   "execution_count": 42,
   "id": "4b0feefb-1bbe-4105-80b2-603b2dd4c9f3",
   "metadata": {},
   "outputs": [
    {
     "data": {
      "text/html": [
       "<div>\n",
       "<style scoped>\n",
       "    .dataframe tbody tr th:only-of-type {\n",
       "        vertical-align: middle;\n",
       "    }\n",
       "\n",
       "    .dataframe tbody tr th {\n",
       "        vertical-align: top;\n",
       "    }\n",
       "\n",
       "    .dataframe thead th {\n",
       "        text-align: right;\n",
       "    }\n",
       "</style>\n",
       "<table border=\"1\" class=\"dataframe\">\n",
       "  <thead>\n",
       "    <tr style=\"text-align: right;\">\n",
       "      <th></th>\n",
       "      <th>ID</th>\n",
       "      <th>URL</th>\n",
       "      <th>end_link</th>\n",
       "      <th>end_link_count</th>\n",
       "    </tr>\n",
       "  </thead>\n",
       "  <tbody>\n",
       "    <tr>\n",
       "      <th>0</th>\n",
       "      <td>4</td>\n",
       "      <td>https://atailoredsuit.com/start-here.html</td>\n",
       "      <td>start-here.html</td>\n",
       "      <td>3</td>\n",
       "    </tr>\n",
       "    <tr>\n",
       "      <th>1</th>\n",
       "      <td>5</td>\n",
       "      <td>https://atailoredsuit.com/mens-style-guide-tai...</td>\n",
       "      <td>mens-style-guide-tailored-suit.html</td>\n",
       "      <td>6</td>\n",
       "    </tr>\n",
       "    <tr>\n",
       "      <th>2</th>\n",
       "      <td>6</td>\n",
       "      <td>https://atailoredsuit.com/your-measurements-ta...</td>\n",
       "      <td>your-measurements-tailored-suit.html</td>\n",
       "      <td>5</td>\n",
       "    </tr>\n",
       "    <tr>\n",
       "      <th>3</th>\n",
       "      <td>7</td>\n",
       "      <td>https://atailoredsuit.com/garment-types-tailor...</td>\n",
       "      <td>garment-types-tailored-suit.html</td>\n",
       "      <td>5</td>\n",
       "    </tr>\n",
       "    <tr>\n",
       "      <th>4</th>\n",
       "      <td>8</td>\n",
       "      <td>https://atailoredsuit.com/about-tailored-suit....</td>\n",
       "      <td>about-tailored-suit.html</td>\n",
       "      <td>4</td>\n",
       "    </tr>\n",
       "  </tbody>\n",
       "</table>\n",
       "</div>"
      ],
      "text/plain": [
       "   ID                                                URL  \\\n",
       "0   4          https://atailoredsuit.com/start-here.html   \n",
       "1   5  https://atailoredsuit.com/mens-style-guide-tai...   \n",
       "2   6  https://atailoredsuit.com/your-measurements-ta...   \n",
       "3   7  https://atailoredsuit.com/garment-types-tailor...   \n",
       "4   8  https://atailoredsuit.com/about-tailored-suit....   \n",
       "\n",
       "                               end_link  end_link_count  \n",
       "0                       start-here.html               3  \n",
       "1   mens-style-guide-tailored-suit.html               6  \n",
       "2  your-measurements-tailored-suit.html               5  \n",
       "3      garment-types-tailored-suit.html               5  \n",
       "4              about-tailored-suit.html               4  "
      ]
     },
     "execution_count": 42,
     "metadata": {},
     "output_type": "execute_result"
    }
   ],
   "source": [
    "df.head()"
   ]
  },
  {
   "cell_type": "code",
   "execution_count": 44,
   "id": "7ba7d240-0465-43fb-95b2-6905d279c62c",
   "metadata": {},
   "outputs": [
    {
     "data": {
      "text/plain": [
       "count    99.000000\n",
       "mean      4.969697\n",
       "std       1.343575\n",
       "min       2.000000\n",
       "25%       4.000000\n",
       "50%       5.000000\n",
       "75%       5.500000\n",
       "max      11.000000\n",
       "Name: end_link_count, dtype: float64"
      ]
     },
     "execution_count": 44,
     "metadata": {},
     "output_type": "execute_result"
    }
   ],
   "source": [
    "df['end_link_count'].describe()"
   ]
  },
  {
   "cell_type": "code",
   "execution_count": 48,
   "id": "949e47b5-4bc7-4e89-82c8-e64ae9a5b3b2",
   "metadata": {},
   "outputs": [
    {
     "data": {
      "text/plain": [
       "(93, 4)"
      ]
     },
     "execution_count": 48,
     "metadata": {},
     "output_type": "execute_result"
    }
   ],
   "source": [
    "df.shape"
   ]
  },
  {
   "cell_type": "code",
   "execution_count": 46,
   "id": "0a3c0ade-9568-44e0-9bd4-e1822c8e58b9",
   "metadata": {},
   "outputs": [],
   "source": [
    "# Filter and remove rows where 'end_link_count' is less than 4\n",
    "df = df[df['end_link_count'] >= 4]\n",
    "\n",
    "# Reset the index to ensure it's continuous\n",
    "df.reset_index(drop=True, inplace=True)"
   ]
  },
  {
   "cell_type": "code",
   "execution_count": 64,
   "id": "5c69dbcf-d032-4f4c-b1e7-5f9bf6c50d2f",
   "metadata": {},
   "outputs": [
    {
     "name": "stdout",
     "output_type": "stream",
     "text": [
      "https://atailoredsuit.com/your-measurements-tailored-suit.html\n",
      "https://atailoredsuit.com/garment-types-tailored-suit.html\n",
      "https://atailoredsuit.com/about-tailored-suit.html\n",
      "https://atailoredsuit.com/faq-tailored-suit.html\n",
      "https://atailoredsuit.com/three-necktie-selection-tips.html\n",
      "https://atailoredsuit.com/5-worst-grooming-mistakes-men-make.html\n",
      "https://atailoredsuit.com/10-distractions-that-decrease-productivity-and-how-to-fix-them.html\n",
      "https://atailoredsuit.com/morning-style-hacks.html\n",
      "https://atailoredsuit.com/what-women-notice-about-men-first.html\n",
      "https://atailoredsuit.com/mistakes-killing-mens-confidence.html\n",
      "https://atailoredsuit.com/suspenders-how-to-wear-braces.html\n",
      "https://atailoredsuit.com/mens-black-suit.html\n",
      "https://atailoredsuit.com/mens-suit-colors.html\n",
      "https://atailoredsuit.com/mens-blazer-what-to-wear-with.html\n",
      "https://atailoredsuit.com/match-tie-knot-shirt-collar-style.html\n",
      "https://atailoredsuit.com/three-piece-suit-introduction.html\n",
      "https://atailoredsuit.com/how-dress-wedding.html\n",
      "https://atailoredsuit.com/mens-dress-shoes-types.html\n",
      "https://atailoredsuit.com/how-to-choose-tailor.html\n",
      "https://atailoredsuit.com/black-tie-formal-wear.html\n",
      "https://atailoredsuit.com/mens-overcoats-topcoats.html\n",
      "https://atailoredsuit.com/understanding-season-shirt-color-selection.html\n",
      "https://atailoredsuit.com/why-purchase-custom-clothing.html\n",
      "https://atailoredsuit.com/proper-fit-mens-clothing.html\n",
      "https://atailoredsuit.com/proper-proportion-mens-clothing.html\n",
      "https://atailoredsuit.com/navy-blue-suit.html\n",
      "https://atailoredsuit.com/charcoal-gray-suit.html\n",
      "https://atailoredsuit.com/mens-suit-introduction.html\n",
      "https://atailoredsuit.com/mens-jewlery-tailored-suit.html\n",
      "https://atailoredsuit.com/mens-pocket-squares-folding.html\n",
      "https://atailoredsuit.com/friends-beyond-style.html\n",
      "https://atailoredsuit.com/conceal-carry-tips.html\n",
      "https://atailoredsuit.com/mens-pocket-squares-intro.html\n",
      "https://atailoredsuit.com/matching-a-tie.html\n",
      "https://atailoredsuit.com/how-to-match-tie.html\n",
      "https://atailoredsuit.com/mens-shirt-cuffs.html\n",
      "https://atailoredsuit.com/mens-shirt-collars.html\n",
      "https://atailoredsuit.com/mens-shirt-fabrics.html\n",
      "https://atailoredsuit.com/understanding-contrast-shirt-color-selection.html\n",
      "https://atailoredsuit.com/tan-khaki-taupe-suit.html\n",
      "https://atailoredsuit.com/how-dress-legal-interview.html\n",
      "https://atailoredsuit.com/good-mens-dress-shoes.html\n",
      "https://atailoredsuit.com/gray-flannel-trousers.html\n",
      "https://atailoredsuit.com/mens-vest-waistcoat.html\n",
      "https://atailoredsuit.com/mens-dress-shirts-introduction.html\n",
      "https://atailoredsuit.com/mens-dress-shirt-deeper-understanding.html\n",
      "https://atailoredsuit.com/mens-suit-fabrics.html\n",
      "https://atailoredsuit.com/mens-suit-jacket-details.html\n",
      "https://atailoredsuit.com/mens-suit-jacket-complete.html\n",
      "https://atailoredsuit.com/mens-light-gray-suit.html\n",
      "https://atailoredsuit.com/how-dress-engineer-interview.html\n",
      "https://atailoredsuit.com/mens-sport-jacket-why-wear.html\n",
      "https://atailoredsuit.com/mens-sports-jacket-about.html\n",
      "https://atailoredsuit.com/mens-sports-jacket-differences-suit-jacket.html\n",
      "https://atailoredsuit.com/how-dress-mba-interview.html\n",
      "https://atailoredsuit.com/mens-pocket-squares-make.html\n",
      "https://atailoredsuit.com/how-dress-medical-interview.html\n",
      "https://atailoredsuit.com/mens-suit-fabric-patterns.html\n",
      "https://atailoredsuit.com/mens-double-breasted-suit-jacket.html\n",
      "https://atailoredsuit.com/how-to-build-custom-clothing.html\n",
      "https://atailoredsuit.com/prices-delivery-tailored-suit.html\n",
      "https://atailoredsuit.com/mens-suit-detail.html\n",
      "https://atailoredsuit.com/mens-shirt-detail.html\n",
      "https://atailoredsuit.com/mens-sport-jacket-blazer-detail.html\n",
      "https://atailoredsuit.com/mens-overcoat-detail.html\n",
      "https://atailoredsuit.com/terms-of-service-tailored-suit.html\n",
      "https://atailoredsuit.com/mens-suit-shirt-fabric-guide.html\n",
      "https://atailoredsuit.com/useful-links-tailored-suit.html\n",
      "https://atailoredsuit.com/mens-style-guide-tailored-suit-old.html\n",
      "https://atailoredsuit.com/how-to-select-necktie.html\n",
      "https://atailoredsuit.com/seiko-watch-buying-guide.html\n",
      "https://atailoredsuit.com/man-navy-blue-blazer.html\n",
      "https://atailoredsuit.com/importance-proper-fit-menswear.html\n",
      "https://atailoredsuit.com/mens-pocket-square-types.html\n",
      "https://atailoredsuit.com/what-is-dress-shirt.html\n",
      "https://atailoredsuit.com/10-tips-to-look-great-while-carrying-a-concealed-firearm.html\n",
      "https://atailoredsuit.com/perfumes-for-men.html\n",
      "https://atailoredsuit.com/mens-tuxedo-detail.html\n",
      "https://atailoredsuit.com/garment-fit-details.html\n",
      "https://atailoredsuit.com/image-consultants-clothiers.html\n",
      "https://atailoredsuit.com/how-to-choose-tailor-russian.html\n",
      "https://atailoredsuit.com/mens-style-consultation-tailored-suit.html\n",
      "https://atailoredsuit.com/testimonials-tailored-suit.html\n",
      "https://atailoredsuit.com/order-fabric-swatch-tailored-suit.html\n",
      "https://atailoredsuit.com/mens-style-blogs.html\n",
      "https://atailoredsuit.com/style-guides-forums.html\n",
      "https://atailoredsuit.com/mens-dress-shoes-types-russian.html\n",
      "https://atailoredsuit.com/good-mens-dress-shoes-russian.html\n",
      "https://atailoredsuit.com/mens-overcoats-topcoats-russian.html\n",
      "https://atailoredsuit.com/mens-pocket-squares-folding-russian.html\n",
      "https://atailoredsuit.com/mens-suit-colors-russian.html\n"
     ]
    }
   ],
   "source": [
    "for end_link in df['URL']:\n",
    "    print(end_link)"
   ]
  },
  {
   "cell_type": "code",
   "execution_count": 55,
   "id": "86be2ac4-2c55-4f61-a758-71184239a317",
   "metadata": {},
   "outputs": [],
   "source": [
    "# Filter and remove rows where 'URL' is equal to the specified value\n",
    "url_to_delete = 'https://atailoredsuit.com/mens-style-guide-tailored-suit.html'\n",
    "df = df[df['URL'] != url_to_delete]\n",
    "\n",
    "# Reset the index to ensure it's continuous\n",
    "df.reset_index(drop=True, inplace=True)"
   ]
  },
  {
   "cell_type": "code",
   "execution_count": 63,
   "id": "22d3d45c-0258-4f2a-866c-c25ec77a9fba",
   "metadata": {},
   "outputs": [
    {
     "data": {
      "text/html": [
       "<div>\n",
       "<style scoped>\n",
       "    .dataframe tbody tr th:only-of-type {\n",
       "        vertical-align: middle;\n",
       "    }\n",
       "\n",
       "    .dataframe tbody tr th {\n",
       "        vertical-align: top;\n",
       "    }\n",
       "\n",
       "    .dataframe thead th {\n",
       "        text-align: right;\n",
       "    }\n",
       "</style>\n",
       "<table border=\"1\" class=\"dataframe\">\n",
       "  <thead>\n",
       "    <tr style=\"text-align: right;\">\n",
       "      <th></th>\n",
       "      <th>URL</th>\n",
       "    </tr>\n",
       "  </thead>\n",
       "  <tbody>\n",
       "    <tr>\n",
       "      <th>0</th>\n",
       "      <td>https://atailoredsuit.com/your-measurements-ta...</td>\n",
       "    </tr>\n",
       "    <tr>\n",
       "      <th>1</th>\n",
       "      <td>https://atailoredsuit.com/garment-types-tailor...</td>\n",
       "    </tr>\n",
       "    <tr>\n",
       "      <th>2</th>\n",
       "      <td>https://atailoredsuit.com/about-tailored-suit....</td>\n",
       "    </tr>\n",
       "    <tr>\n",
       "      <th>3</th>\n",
       "      <td>https://atailoredsuit.com/faq-tailored-suit.html</td>\n",
       "    </tr>\n",
       "    <tr>\n",
       "      <th>4</th>\n",
       "      <td>https://atailoredsuit.com/three-necktie-select...</td>\n",
       "    </tr>\n",
       "  </tbody>\n",
       "</table>\n",
       "</div>"
      ],
      "text/plain": [
       "                                                 URL\n",
       "0  https://atailoredsuit.com/your-measurements-ta...\n",
       "1  https://atailoredsuit.com/garment-types-tailor...\n",
       "2  https://atailoredsuit.com/about-tailored-suit....\n",
       "3   https://atailoredsuit.com/faq-tailored-suit.html\n",
       "4  https://atailoredsuit.com/three-necktie-select..."
      ]
     },
     "execution_count": 63,
     "metadata": {},
     "output_type": "execute_result"
    }
   ],
   "source": [
    "df.head()"
   ]
  },
  {
   "cell_type": "code",
   "execution_count": 61,
   "id": "2c0b6e0d-33db-4c44-b2f7-02d95d760e60",
   "metadata": {},
   "outputs": [],
   "source": [
    "df = df.drop('end_link_count', axis=1)"
   ]
  },
  {
   "cell_type": "code",
   "execution_count": 62,
   "id": "ec373d60-7f3d-4bcb-99df-176e6f475509",
   "metadata": {},
   "outputs": [],
   "source": [
    "# Save the DataFrame to a CSV file without saving the index\n",
    "df.to_csv('a_tailored_suit_clean_links.csv', index=False)"
   ]
  },
  {
   "cell_type": "code",
   "execution_count": 65,
   "id": "e61dda86-53e1-4be1-aac1-085aef676a4e",
   "metadata": {},
   "outputs": [],
   "source": [
    "import requests\n",
    "from bs4 import BeautifulSoup"
   ]
  },
  {
   "cell_type": "code",
   "execution_count": 66,
   "id": "596da434-122d-4268-8d40-7651c802aa02",
   "metadata": {},
   "outputs": [],
   "source": [
    "def scrape_content(url):\n",
    "    try:\n",
    "        response = requests.get(url)\n",
    "        response.raise_for_status()  # Check for a successful response\n",
    "    except requests.exceptions.RequestException as e:\n",
    "        print(f\"Error scraping {url}: {e}\")\n",
    "        return None\n",
    "\n",
    "    soup = BeautifulSoup(response.text, 'html.parser')\n",
    "    # Extract the content you want from the page\n",
    "    content = soup.find('div', class_='entry-content')\n",
    "    if content:\n",
    "        paragraphs = []\n",
    "        # Find all <p> tags within the 'post-content-inner' div\n",
    "        p_tags = content.find_all('p')\n",
    "        for p_tag in p_tags:\n",
    "            # Extract and append the text from each <p> tag to the paragraphs list\n",
    "            paragraph_text = p_tag.get_text()\n",
    "            if paragraph_text.strip():  # Check if the paragraph is not empty\n",
    "                paragraphs.append(paragraph_text)\n",
    "\n",
    "        # Create a string representation of the non-empty paragraphs with \"====\" between them\n",
    "        paragraph_text = \"\\n\".join(paragraphs)\n",
    "\n",
    "        return paragraph_text\n",
    "\n",
    "    else:\n",
    "        print(\"No div with class 'post-content-inner' found.\")\n",
    "        return None"
   ]
  },
  {
   "cell_type": "code",
   "execution_count": 70,
   "id": "2404f3ff-acb5-440c-83dc-761af4b0667a",
   "metadata": {},
   "outputs": [
    {
     "data": {
      "text/plain": [
       "'Grooming…seems simple, right?\\nBut imagine you were:\\nDo I have your attention?\\nAnyway…\\nWhether or not you’ve faced those situations (or even similar ones)…\\nWe all need self-awareness.\\nThink of your grooming practices:\\nAnd while you’re at it, check out these 5 grooming mistakes men make – which you’ll want to avoid from here on out.\\nClick Here To Watch The Video – 5 WORST Grooming Mistakes Men Make\\nClick Here To Watch The Video – Biggest Manscaping DON’Ts\\nWhat if you had no form of schedule or timetable at work? And you were assigned task after task on any given day…\\nDeadlines would clash. Stress would build up. And you’d end up doing everything less efficiently.\\nThat’s why you need a routine for a lot of things – including your grooming. The goal behind\\xa0it is to be\\xa0proactive, not reactive.\\nYou want to be able to plan out when you’re going to shave, cut your fingernails, have a haircut and your nose/ears/neck hair trimmed.\\nWithout the initiative to plan ahead, bad habits start to creep in. Without a weekly grooming schedule, and a daily skincare routine, you tend to procrastinate till the very last minute.\\nSome worst-case grooming scenarios you wouldn’t want to face:\\nSo as basic as it is to have a grooming routine, remember that not having one can lead to some major consequences – making your life more difficult than it has to be.\\nLet’s all agree on this:\\xa0an\\xa0ounce of prevention = a pound of cure.\\nAs true as that statement is, how many of us apply it to everyday life? How many of us regularly take measures to maintain our health and appearance?\\nIf you see some of those guys who are\\xa010, 20 or 30 years ahead of you, notice how they always “look the part” and kick butt at whatever it is they do. People admire them and seek their advice.\\nThey’re the ones with the wisdom and life experience.\\xa0They focused on more prevention and less cure. By using skin lotions and creams\\xa0properly, they managed to avoid cracked hands or other\\xa0common skin problems. And because of that – they can show off a fresh, youthful face for plenty more years.\\nThere’s one concept that’s widespread in society these days – “instant gratification.”\\nAs in getting stuff NOW. Reaping the rewards now. No journey or baby steps. But that just isn’t the nature of proper grooming.\\nBeing healthy and well-groomed takes time. That includes switching products in the hopes of better results. It doesn’t happen overnight.\\nIf a new anti-dandruff shampoo doesn’t seem right after the first day, try it for a bit longer to make sure.\\nIt’s the same deal if you change to a shaving lotion after using an alcohol-based product. You may have to wait a few weeks before any big improvement kicks in.\\nIt’s about\\xa0patience and commitment. Even for the other end of the spectrum: growing a beard. You might be halfway through the process of growing a specific\\xa0beard style – and your face starts to itch.\\nIf you really want that beard, do NOT shave. It’ll make all your progress go to waste. Find a way to deal with the itching. Isn’t the final result worth the discomfort?\\nWe’ve been told this since childhood:\\xa0everything in moderation.\\nAnd that applies to most of our daily grooming practices. Especially when\\xa0we use fragrances.\\nHow many of us go beyond 1-2 sprays of cologne every time? Some think it’s completely okay. Some just want to smell “extra” better.\\nBut those guys forget about the fact that what smells right to them might be too strong to others (given that they use that amount frequently).\\nThat’s why men should educate themselves on various fragrances such as cologne and perfume – plus the different terminologies and concentrations for each.\\nIt’s not just so you can avoid “coming off strong” when you enter a room. It’s also about finding the perfect scent/product to complement your body chemistry.\\nAside from fragrances, you should avoid overdoing the following:\\nBeing a family man, a devoted husband or a hard-working professional…\\n…should NOT involve martyrdom.\\nYou might be at a stage in life where others mostly depend on you. But your well-being doesn’t have to take the back seat. You’re still your own provider. You’re still in charge of your body.\\nThere’s really no excuse for neglecting yourself. Forget the “superman” or “tough guy” image. Abusing your body only gives you bogus bragging rights. Eventually, you’ll be looked down upon.\\nThe most impressive AND attractive men are the ones who can strike a balance. They handle their responsibilities for other people while still keeping themselves healthy and well-groomed.\\nThey know that without caring for themselves – they can’t take care of anyone else. That’s the mindset you need in your everyday life.'"
      ]
     },
     "execution_count": 70,
     "metadata": {},
     "output_type": "execute_result"
    }
   ],
   "source": [
    "scrape_content(df['URL'][5])"
   ]
  },
  {
   "cell_type": "code",
   "execution_count": 71,
   "id": "bfa011cf-faf6-4427-b16c-be4afc5fa2d7",
   "metadata": {},
   "outputs": [],
   "source": [
    "df['text'] = df['URL'].apply(scrape_content)"
   ]
  },
  {
   "cell_type": "code",
   "execution_count": 72,
   "id": "b80e4106-0a97-46e7-99f8-0709aca91aab",
   "metadata": {},
   "outputs": [
    {
     "data": {
      "text/html": [
       "<div>\n",
       "<style scoped>\n",
       "    .dataframe tbody tr th:only-of-type {\n",
       "        vertical-align: middle;\n",
       "    }\n",
       "\n",
       "    .dataframe tbody tr th {\n",
       "        vertical-align: top;\n",
       "    }\n",
       "\n",
       "    .dataframe thead th {\n",
       "        text-align: right;\n",
       "    }\n",
       "</style>\n",
       "<table border=\"1\" class=\"dataframe\">\n",
       "  <thead>\n",
       "    <tr style=\"text-align: right;\">\n",
       "      <th></th>\n",
       "      <th>URL</th>\n",
       "      <th>text</th>\n",
       "    </tr>\n",
       "  </thead>\n",
       "  <tbody>\n",
       "  </tbody>\n",
       "</table>\n",
       "</div>"
      ],
      "text/plain": [
       "Empty DataFrame\n",
       "Columns: [URL, text]\n",
       "Index: []"
      ]
     },
     "execution_count": 72,
     "metadata": {},
     "output_type": "execute_result"
    }
   ],
   "source": [
    "df[df['text'].isnull()]"
   ]
  },
  {
   "cell_type": "code",
   "execution_count": 84,
   "id": "da5e2613-a171-4b6d-8c16-5a071315dac0",
   "metadata": {},
   "outputs": [],
   "source": [
    "# Save the DataFrame to a CSV file without saving the index\n",
    "df.to_csv('a_tailored_suit_clean_links_with_text.csv', index=False)"
   ]
  },
  {
   "cell_type": "code",
   "execution_count": 74,
   "id": "e112166e-02c3-437c-910d-b327dc2c2087",
   "metadata": {},
   "outputs": [
    {
     "data": {
      "text/html": [
       "<div>\n",
       "<style scoped>\n",
       "    .dataframe tbody tr th:only-of-type {\n",
       "        vertical-align: middle;\n",
       "    }\n",
       "\n",
       "    .dataframe tbody tr th {\n",
       "        vertical-align: top;\n",
       "    }\n",
       "\n",
       "    .dataframe thead th {\n",
       "        text-align: right;\n",
       "    }\n",
       "</style>\n",
       "<table border=\"1\" class=\"dataframe\">\n",
       "  <thead>\n",
       "    <tr style=\"text-align: right;\">\n",
       "      <th></th>\n",
       "      <th>URL</th>\n",
       "      <th>text</th>\n",
       "    </tr>\n",
       "  </thead>\n",
       "  <tbody>\n",
       "    <tr>\n",
       "      <th>0</th>\n",
       "      <td>https://atailoredsuit.com/your-measurements-ta...</td>\n",
       "      <td>Collecting the men’s suit, dress shirt, sport ...</td>\n",
       "    </tr>\n",
       "    <tr>\n",
       "      <th>1</th>\n",
       "      <td>https://atailoredsuit.com/garment-types-tailor...</td>\n",
       "      <td>Below are links to detailed descriptions and p...</td>\n",
       "    </tr>\n",
       "    <tr>\n",
       "      <th>2</th>\n",
       "      <td>https://atailoredsuit.com/about-tailored-suit....</td>\n",
       "      <td>The idea for A Tailored Suit started in Decemb...</td>\n",
       "    </tr>\n",
       "    <tr>\n",
       "      <th>3</th>\n",
       "      <td>https://atailoredsuit.com/faq-tailored-suit.html</td>\n",
       "      <td>Why Should Men Purchase Custom Clothing?\\nTher...</td>\n",
       "    </tr>\n",
       "    <tr>\n",
       "      <th>4</th>\n",
       "      <td>https://atailoredsuit.com/three-necktie-select...</td>\n",
       "      <td>When dressing in suit and tie, it is the neckt...</td>\n",
       "    </tr>\n",
       "  </tbody>\n",
       "</table>\n",
       "</div>"
      ],
      "text/plain": [
       "                                                 URL  \\\n",
       "0  https://atailoredsuit.com/your-measurements-ta...   \n",
       "1  https://atailoredsuit.com/garment-types-tailor...   \n",
       "2  https://atailoredsuit.com/about-tailored-suit....   \n",
       "3   https://atailoredsuit.com/faq-tailored-suit.html   \n",
       "4  https://atailoredsuit.com/three-necktie-select...   \n",
       "\n",
       "                                                text  \n",
       "0  Collecting the men’s suit, dress shirt, sport ...  \n",
       "1  Below are links to detailed descriptions and p...  \n",
       "2  The idea for A Tailored Suit started in Decemb...  \n",
       "3  Why Should Men Purchase Custom Clothing?\\nTher...  \n",
       "4  When dressing in suit and tie, it is the neckt...  "
      ]
     },
     "execution_count": 74,
     "metadata": {},
     "output_type": "execute_result"
    }
   ],
   "source": [
    "df.head()"
   ]
  },
  {
   "cell_type": "code",
   "execution_count": 83,
   "id": "b31f2edd-8370-4e56-836a-1698294ce4ac",
   "metadata": {},
   "outputs": [
    {
     "data": {
      "text/plain": [
       "'When dressing in suit and tie, it is the necktie that will often add the dash of flavor to the overall outfit.\\nWhile suits are typically gray, navy, or black and dress shirts either blue or white, it is a man’s neckwear that adds a strong accent with its color and pattern.\\nWith so many necktie options, finding the perfect tie that matches can be overwhelming. This article seeks to alleviate that pain.\\nWhen a man matches a tie to a dress shirt and suit the three most important factors to weigh are \\n1) Necktie Pattern\\n2) Necktie Color \\n3) Necktie Proportion\\nTies come in many patterns ranging from stripes to paisleys to tartan-check.\\nSo how would you go about matching a patterned tie to a pin-striped suit and a checkered pattern dress shirt?  What are the rules to matching necktie patterns?\\nThe rule for matching patterns is that no two pieces of clothing should utilize the same pattern size and to a lesser degree pattern type.\\nBy pattern size I mean the distance between the stripes on your shirt should not be close to the width of the stripes on your tie; by doing this you can create an optical illusion of movement which the human eye finds unattractive.\\nHence matching a subtle pin-striped suit with a larger check patterned dress shirt and intricate paisley pattern tie is acceptable;\\nHowever wearing that same pin-striped suit and large check patterned dress shirt with striped tie that too closely mimics the suit’s stripe separation will create a questionable look.\\nThis rule applies when matching 3 or 5 patterns and of all three factors is the most important; a man will not wear a tie whose color he doesn’t like, but will often try to wear one whose color is pleasing but pattern is wrong.\\nPlease note that for the purposes of tie matching we do not classify solid colored ties as having any pattern. Therefore the rules of pattern matching do not apply to true solid colored neckwear.  As a result you could match multiple solids…..the combination would be boring, but acceptable.  However, because pattern is not a factor the next two variables are even more important when considering a solid necktie.\\nWhen matching color the first thing you should do is look at all garments together to make sure that the colors are in harmony; if you have doubts trust your first impressions and try something different.\\n“Convincing yourself” something matches may enable you to wear it, but you’ll not wear the combination with confidence.  Trust first impressions – others you meet will.\\nBut what does it mean to match, and what has precedent in terms of priority?\\nMost of us can see when there is a conflict between colors – something just looks wrong.\\nIf you feel your tie does not match, do not try to force it; instead simply substitute it for a more subtle necktie.\\nIf uncertain, the safest bet is to stick with the traditional (but somewhat boring) tie colors of business.  Non-bright red and to a lesser extent gold and blue will go with most dark suits and  white or light to medium-blue shirt combinations.\\nFinally always remember that you want the necktie to accent your suit and shirt, not dominate them.  If your tie overpowers your suit, you can bet it will draw attention from your face as well.\\nAlthough often not as important as either pattern or color, proportion can play a role in matching when a necktie varies from the standard 3.5 inch width and is either a skinny tie (less than 3 inches wide) or excessively wide tie (more than 3.75 inches). \\nFor skinny or wide ties you need to take in factors such as the height and weight of the individual and the width of his suit’s lapels.  A thin petite man will look sharp with thin lapels and a thin tie, while a large man with wider build lapels wearing the same skinny tie will look ridiculous.'"
      ]
     },
     "execution_count": 83,
     "metadata": {},
     "output_type": "execute_result"
    }
   ],
   "source": [
    "df['text'][4]"
   ]
  },
  {
   "cell_type": "code",
   "execution_count": 78,
   "id": "54852147-9d5e-4bb1-881f-e11673165d25",
   "metadata": {},
   "outputs": [],
   "source": [
    "import html"
   ]
  },
  {
   "cell_type": "code",
   "execution_count": 77,
   "id": "832c5b7b-b8db-479c-952b-11aa5f8cf756",
   "metadata": {},
   "outputs": [],
   "source": [
    "def escape_html_tag(text):\n",
    "    return html.unescape(text)"
   ]
  },
  {
   "cell_type": "code",
   "execution_count": 79,
   "id": "4bbd3b9f-3d6a-4c2e-9991-2f421f1f5e29",
   "metadata": {},
   "outputs": [],
   "source": [
    "df['text'] = df['text'].apply(escape_html_tag)"
   ]
  },
  {
   "cell_type": "code",
   "execution_count": 81,
   "id": "219ccbce-1e65-48c0-baa4-ad0a5bb45d72",
   "metadata": {},
   "outputs": [],
   "source": [
    "def remove_the_tag(text):\n",
    "    return text.replace(u'\\xa0', u' ')"
   ]
  },
  {
   "cell_type": "code",
   "execution_count": 82,
   "id": "c26f7e58-26d9-4627-b70c-b2220d3c1709",
   "metadata": {},
   "outputs": [],
   "source": [
    "#remove_the_tag(df['text'][0])\n",
    "df['text'] = df['text'].apply(remove_the_tag)"
   ]
  },
  {
   "cell_type": "code",
   "execution_count": null,
   "id": "caa9c607-8913-4def-aba6-ee16ddcc0053",
   "metadata": {},
   "outputs": [],
   "source": []
  }
 ],
 "metadata": {
  "kernelspec": {
   "display_name": "Python 3 (ipykernel)",
   "language": "python",
   "name": "python3"
  },
  "language_info": {
   "codemirror_mode": {
    "name": "ipython",
    "version": 3
   },
   "file_extension": ".py",
   "mimetype": "text/x-python",
   "name": "python",
   "nbconvert_exporter": "python",
   "pygments_lexer": "ipython3",
   "version": "3.11.3"
  }
 },
 "nbformat": 4,
 "nbformat_minor": 5
}
